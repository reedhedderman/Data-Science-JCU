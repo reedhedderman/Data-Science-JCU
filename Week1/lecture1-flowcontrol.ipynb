{
 "cells": [
  {
   "attachments": {},
   "cell_type": "markdown",
   "metadata": {},
   "source": [
    "<h1 style=\"text-align: center;\"> Python Syntax and Flow Controls </h1>"
   ]
  },
  {
   "cell_type": "code",
   "execution_count": 9,
   "metadata": {},
   "outputs": [
    {
     "name": "stdout",
     "output_type": "stream",
     "text": [
      "float value: 3.80, int value: 3, string value: ReedHedderman\n"
     ]
    }
   ],
   "source": [
    "# understanding the different data types\n",
    "\n",
    "variable_float = 3.8\n",
    "variable_int = 3\n",
    "variable_string = \"ReedHedderman\"\n",
    "\n",
    "print(\"float value: {0:.2f}, int value: {1:d}, string value: {2:s}\".format( variable_float,variable_int, variable_string))"
   ]
  },
  {
   "attachments": {},
   "cell_type": "markdown",
   "metadata": {},
   "source": [
    "<h2 style=\"text-align: center;\"> Quadratic Functions of Form y=ax^2+bx+c</h2>"
   ]
  },
  {
   "cell_type": "code",
   "execution_count": 10,
   "metadata": {},
   "outputs": [],
   "source": [
    "import math as math\n",
    "import matplotlib.pyplot as plt\n",
    "import numpy as np"
   ]
  },
  {
   "cell_type": "code",
   "execution_count": 17,
   "metadata": {},
   "outputs": [
    {
     "name": "stdout",
     "output_type": "stream",
     "text": [
      "Coefficients a, b, and c are: 1.00, 6.00, 2.00\n"
     ]
    }
   ],
   "source": [
    "# prompt the values for the coefficient a, b, and c\n",
    "\n",
    "a,b,c = input(\"Write the values of your coefficient: \").split()\n",
    "a = float(a)\n",
    "b = float(b)\n",
    "c = float(c)\n",
    "\n",
    "print(\"Coefficients a, b, and c are: {0:.2f}, {1:.2f}, {2:.2f}\".format(a,b,c))"
   ]
  },
  {
   "cell_type": "code",
   "execution_count": 19,
   "metadata": {},
   "outputs": [
    {
     "name": "stdout",
     "output_type": "stream",
     "text": [
      "x-intercepts: (-0.354,0), (-5.646,0)\n",
      "y-intercepts: (0, 2.000)\n"
     ]
    }
   ],
   "source": [
    "#finding the x-intercepts\n",
    "\n",
    "root_1 = ((-b+(math.sqrt((math.pow(b,2)-(4*a*c)))))/(2*a))\n",
    "root_2 = ((-b-(math.sqrt((math.pow(b,2)-(4*a*c)))))/(2*a))\n",
    "\n",
    "print(\"x-intercepts: ({0:.3f},0), ({1:.3f},0)\".format(root_1,root_2))\n",
    "print(\"y-intercepts: (0, {0:.3f})\".format(c))"
   ]
  },
  {
   "cell_type": "code",
   "execution_count": 20,
   "metadata": {},
   "outputs": [
    {
     "name": "stdout",
     "output_type": "stream",
     "text": [
      "x-intercepts: (-0.354,0), (-5.646,0)\n"
     ]
    }
   ],
   "source": [
    "discrimanant = math.pow(b,2) - 4*a*c\n",
    "\n",
    "if(discrimanant >=0):\n",
    "    root_1 = ((-b+(math.sqrt(discrimanant)))/(2*a))\n",
    "    root_2 = ((-b-(math.sqrt(discrimanant)))/(2*a))\n",
    "    print(\"x-intercepts: ({0:.3f},0), ({1:.3f},0)\".format(root_1,root_2))\n",
    "else:\n",
    "    print(\"quadratic function does nothave an x-intercept\")\n"
   ]
  },
  {
   "cell_type": "code",
   "execution_count": 24,
   "metadata": {},
   "outputs": [
    {
     "name": "stdout",
     "output_type": "stream",
     "text": [
      "vertex: (-3.000,-7.000)\n"
     ]
    }
   ],
   "source": [
    "h = -b / (2 * a)\n",
    "k = (a * math.pow(h,2) + b * h + c)\n",
    "\n",
    "print(\"vertex: ({0:.3f},{1:.3f})\".format(h,k))\n",
    "\n"
   ]
  },
  {
   "cell_type": "code",
   "execution_count": 26,
   "metadata": {},
   "outputs": [
    {
     "data": {
      "text/plain": [
       "[<matplotlib.lines.Line2D at 0x111eb7fd0>]"
      ]
     },
     "execution_count": 26,
     "metadata": {},
     "output_type": "execute_result"
    },
    {
     "data": {
      "image/png": "[encoded data removed]",
      "text/plain": [
       "<Figure size 640x480 with 1 Axes>"
      ]
     },
     "metadata": {},
     "output_type": "display_data"
    }
   ],
   "source": [
    "#plot your function\n",
    "\n",
    "#define you x space\n",
    "x = np.linspace(-40, 40, 100)\n",
    "\n",
    "#define your quadratic finction\n",
    "\n",
    "y = a * (x**2) + b * x + c\n",
    "\n",
    "fig = plt.figure()\n",
    "ax = fig.add_subplot(1,1,1)\n",
    "ax.spines['left'].set_position(\"center\")\n",
    "ax.spines['bottom'].set_position(\"center\")\n",
    "ax.spines['right'].set_color(\"none\")\n",
    "ax.spines['top'].set_color(\"none\")\n",
    "ax.xaxis.set_ticks_position(\"bottom\")\n",
    "ax.yaxis.set_ticks_position(\"left\")\n",
    "\n",
    "plt.plot(x, y, 'r')\n"
   ]
  },
  {
   "attachments": {},
   "cell_type": "markdown",
   "metadata": {},
   "source": []
  }
 ],
 "metadata": {
  "kernelspec": {
   "display_name": "Python 3",
   "language": "python",
   "name": "python3"
  },
  "language_info": {
   "name": "python",
   "version": "3.11.3"
  },
  "orig_nbformat": 4
 },
 "nbformat": 4,
 "nbformat_minor": 2
}
